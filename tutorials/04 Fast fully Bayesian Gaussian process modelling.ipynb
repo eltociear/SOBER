{
 "cells": [
  {
   "cell_type": "markdown",
   "metadata": {},
   "source": [
    "# Tutorial 04: Fast fully Bayesian Gaussian process (FBGP) modelling\n",
    "We will see how to apply FBGP modelling.<br>\n",
    "We will use the Bayesian quadrature method [BASQ](https://proceedings.neurips.cc/paper_files/paper/2022/hash/697200c9d1710c2799720b660abd11bb-Abstract-Conference.html) for fast Bayesian inference."
   ]
  },
  {
   "cell_type": "markdown",
   "metadata": {},
   "source": [
    "We will consider the following two methods (click link to skip):\n",
    "- non-MCMC-based FBGP: fast FBGP <a href=\"#section1\">link</a>\n",
    "- MCMC-based FBGP: sparse MCMC resampling (to be added) <a href=\"#section2\">link</a>\n",
    "\n",
    "If you have a good hyperprior, non-MCMC is much faster, otherwise MCMC-based is safer."
   ]
  },
  {
   "cell_type": "markdown",
   "metadata": {},
   "source": [
    "FBGP modelling is much more explorative than usual type-II MLE estimation. This model is useful for extremely noisy functions or Bayesian active learning. Bayesian active learning is to optimise machine learning model using Bayesian optimisation to reduce the predictive variance over the domain. Usually, type-II MLE estimation is faster to converge, in terms of both sample-efficiency and wall-clock time. For details on Bayesian active learning, see [paper](https://arxiv.org/abs/2205.10186)"
   ]
  },
  {
   "cell_type": "markdown",
   "metadata": {},
   "source": [
    "## 0. import libraries"
   ]
  },
  {
   "cell_type": "code",
   "execution_count": 1,
   "metadata": {
    "scrolled": true
   },
   "outputs": [],
   "source": [
    "import os\n",
    "import sys\n",
    "sys.path.append(os.path.join(os.getcwd(), '..'))\n",
    "import time\n",
    "import torch\n",
    "import warnings\n",
    "import matplotlib.pyplot as plt\n",
    "\n",
    "warnings.filterwarnings('ignore')\n",
    "device = torch.device('cuda') if torch.cuda.is_available() else torch.device('cpu')"
   ]
  },
  {
   "cell_type": "markdown",
   "metadata": {},
   "source": [
    "<a id =\"section1\"></a>\n",
    "## 1. non-MCMC-based FBGP: fast FBGP\n",
    "Let's get started with the toy example of 6-dimensional Hartmann function.<br>\n",
    "- number of dimensions: 6\n",
    "- bounds: 0 from 1\n",
    "- variable type: continuous\n",
    "- ground truth: 3.32237\n",
    "- optimisation: maximisation"
   ]
  },
  {
   "cell_type": "markdown",
   "metadata": {},
   "source": [
    "We prepared the **setup** function for each task.<br>\n",
    "We can call prior and testfunction with just one line of code."
   ]
  },
  {
   "cell_type": "code",
   "execution_count": 2,
   "metadata": {},
   "outputs": [
    {
     "name": "stdout",
     "output_type": "stream",
     "text": [
      "[KeOps] Warning : Cuda libraries were not detected on the system ; using cpu only mode\n"
     ]
    }
   ],
   "source": [
    "from experiments._hartmann import setup_hartmann\n",
    "prior, TestFunction = setup_hartmann()\n",
    "\n",
    "# initial sampling\n",
    "random_seed = 0     # random seed that determines random behaviours\n",
    "torch.manual_seed(random_seed)\n",
    "\n",
    "n_init = 100\n",
    "Xall = prior.sample(n_init)\n",
    "Yall = TestFunction(Xall)"
   ]
  },
  {
   "cell_type": "markdown",
   "metadata": {},
   "source": [
    "### 1.1 Set underlying GP model\n",
    "For fast fully Bayesian treatment, we adopt FITBO modelling.<br>\n",
    "FITBO GP model adopts warped GP (see details [link](https://arxiv.org/abs/1711.00673))<br>\n",
    "As we can see, FITBO model works fine."
   ]
  },
  {
   "cell_type": "code",
   "execution_count": 3,
   "metadata": {},
   "outputs": [
    {
     "data": {
      "text/plain": [
       "<matplotlib.collections.PathCollection at 0x7ff3f11c7a30>"
      ]
     },
     "execution_count": 3,
     "metadata": {},
     "output_type": "execute_result"
    },
    {
     "data": {
      "image/png": "[encoded data removed]",
      "text/plain": [
       "<Figure size 640x480 with 1 Axes>"
      ]
     },
     "metadata": {},
     "output_type": "display_data"
    }
   ],
   "source": [
    "import gpytorch\n",
    "from SOBER.FBGP._fitbo import FitboGP\n",
    "\n",
    "gp_kernel = gpytorch.kernels.ScaleKernel(gpytorch.kernels.RBFKernel())\n",
    "underlying_model = FitboGP(Xall, Yall, gp_kernel, device)\n",
    "\n",
    "# visualise\n",
    "y_pred = underlying_model.predict_mean(Xall)\n",
    "plt.scatter(Yall, y_pred)"
   ]
  },
  {
   "cell_type": "markdown",
   "metadata": {},
   "source": [
    "### 1.2 Sampling hypersamples without MCMC\n",
    "We simply sample from hyperprior (log-normal distribution).<br>\n",
    "Then, we compute the log marginal likelihood (LML) of GP model.<br>\n",
    "The LML is used for computing the weights to estimate the hyperposterior distribution.<br>\n",
    "Unlike MCMC, this process is not sequential, so we can parallelise this whole sampling process.<br>\n",
    "For this demo, we do not parallelise but we can do it readily."
   ]
  },
  {
   "cell_type": "code",
   "execution_count": 4,
   "metadata": {},
   "outputs": [],
   "source": [
    "from SOBER.FBGP._hyperprior import RBFHyperPrior\n",
    "from SOBER.FBGP._fully_Bayesian_gp import sampling_hypers\n",
    "\n",
    "n_hypers = 1000 # number of hypersamples drawn from hyperprior\n",
    "\n",
    "hyperprior = RBFHyperPrior()  # log normal distribution\n",
    "hypersamples, lmls = sampling_hypers(\n",
    "    underlying_model,   # FITBO model\n",
    "    hyperprior,         # hyperprior\n",
    "    n_hypers=n_hypers,  # number of hypersamples\n",
    "    use_map=True,       # use MAP hyperparameters to update hyperprior\n",
    ")"
   ]
  },
  {
   "cell_type": "markdown",
   "metadata": {},
   "source": [
    "### 1.3 Quadrature distillation (QD)\n",
    "We apply quadrature distillation for sparsifying the hypersamples.<br>\n",
    "We use Bayesian quadrature to estimate the sparse set of weighted hyperparameters which approximate the hyperposterior distribution.<br>\n",
    "We set hyper-GP over marginal likelihood to approximate the hyperparameter marginalisation with the small subset of hypersamples.<br>"
   ]
  },
  {
   "cell_type": "code",
   "execution_count": 5,
   "metadata": {},
   "outputs": [],
   "source": [
    "from SOBER.FBGP._fully_Bayesian_gp import quadrature_distillation\n",
    "\n",
    "n_nys = 100 # number of hypersamples for Nyström approximation\n",
    "n_qd = 10   # number of distilled hyperparameters\n",
    "\n",
    "w_qd, Theta_qd = quadrature_distillation(\n",
    "    hypersamples, # hypersamples sampled from hyperprior\n",
    "    lmls,         # log marginal likleihood\n",
    "    gp_kernel,    # kernel for hyper-GP\n",
    "    n_nys=n_nys,  # number of Nyström hypersamples\n",
    "    n_qd=n_qd,    # number of resulted hypersamples\n",
    ")"
   ]
  },
  {
   "cell_type": "markdown",
   "metadata": {},
   "source": [
    "### 1.4 Fully Bayesian Gaussian Process (FBGP) model with sparse hyperparameters\n",
    "We pass the distilled hypersamples (w_qd, Theta_qd) to FBGP model.<br>\n",
    "As we can see, sparse FBGP model works quickly and finely."
   ]
  },
  {
   "cell_type": "code",
   "execution_count": 6,
   "metadata": {},
   "outputs": [
    {
     "data": {
      "text/plain": [
       "<matplotlib.collections.PathCollection at 0x7ff358064790>"
      ]
     },
     "execution_count": 6,
     "metadata": {},
     "output_type": "execute_result"
    },
    {
     "data": {
      "image/png": "[encoded data removed]",
      "text/plain": [
       "<Figure size 640x480 with 1 Axes>"
      ]
     },
     "metadata": {},
     "output_type": "display_data"
    }
   ],
   "source": [
    "from SOBER.FBGP._fully_Bayesian_gp import FullyBayesianGP\n",
    "\n",
    "fbgp = FullyBayesianGP(underlying_model, w_qd, Theta_qd)\n",
    "\n",
    "# visualise\n",
    "y_pred = fbgp.marginal_predictive_mean(Xall)\n",
    "plt.scatter(Yall, y_pred)"
   ]
  },
  {
   "cell_type": "markdown",
   "metadata": {},
   "source": [
    "### 1.5 Marginal acquisition functions\n",
    "We can estimate marginal acquisition functions with fully Bayesian treatment.<br>\n",
    "Quadrature distillation can accelerate acquisition function computation.<br>\n",
    "We prepared 5 marginal acquisition functions:<br>\n",
    "Select from [\"EI\", \"UCB\", \"MES\", \"BQBC\", \"QBMGP\"]<br>\n",
    "- EI: marginal expected improvement\n",
    "- UCB: marginal upper confidence bound\n",
    "- MES: max-value entropy search\n",
    "- BQBC: Bayesian query-by-committee\n",
    "- QBMGP: Query by a mixture of Gaussian processes\n",
    "\n",
    "We recommend MES, which performs well as far as we have tried.<br>\n",
    "We can compute the information-theoretic function surprisingly fast."
   ]
  },
  {
   "cell_type": "code",
   "execution_count": 7,
   "metadata": {},
   "outputs": [
    {
     "name": "stdout",
     "output_type": "stream",
     "text": [
      "Acquisition time per sample [μs]: 5.89554e+02\n"
     ]
    }
   ],
   "source": [
    "from SOBER.FBGP._acquisition_function import FBGPAcquisitionFunction\n",
    "\n",
    "AF = FBGPAcquisitionFunction(fbgp, label=\"MES\")\n",
    "start = time.monotonic()\n",
    "AF(Xall)\n",
    "end = time.monotonic()\n",
    "wall_time = (end - start) / len(Xall) * 1e6\n",
    "print(f\"Acquisition time per sample [μs]: {wall_time:.5e}\")"
   ]
  },
  {
   "cell_type": "markdown",
   "metadata": {},
   "source": [
    "### 1.6 Run SOBER\n",
    "That's all! Running SOBER with an FBGP model is super easy, just passing the model to SOBER class."
   ]
  },
  {
   "cell_type": "code",
   "execution_count": 8,
   "metadata": {},
   "outputs": [],
   "source": [
    "def train_fbgp_model(\n",
    "    Xall,\n",
    "    Yall,\n",
    "    n_hypers=1000,\n",
    "    n_nys=100,\n",
    "    n_qd=50,\n",
    "):\n",
    "    gp_kernel = gpytorch.kernels.ScaleKernel(gpytorch.kernels.RBFKernel())\n",
    "    underlying_model = FitboGP(Xall, Yall, gp_kernel, device)\n",
    "    hyperprior = RBFHyperPrior()\n",
    "    hypersamples, lmls = sampling_hypers(\n",
    "        underlying_model,\n",
    "        hyperprior,\n",
    "        n_hypers=n_hypers,\n",
    "        use_map=True,\n",
    "    )\n",
    "    w_qd, Theta_qd = quadrature_distillation(\n",
    "        hypersamples,\n",
    "        lmls,\n",
    "        gp_kernel,\n",
    "        n_nys=n_nys,\n",
    "        n_qd=n_qd,\n",
    "    )\n",
    "    fbgp = FullyBayesianGP(underlying_model, w_qd, Theta_qd)\n",
    "    return fbgp\n",
    "\n",
    "def visualise_results(results, y_true=None):\n",
    "    idx_batch = torch.arange(n_iterations)\n",
    "\n",
    "    fig, ax = plt.subplots(1, 2, tight_layout=True, figsize=(8,4))\n",
    "    ax[0].plot(idx_batch, results[:,1], 'bo-', label=\"observed maximum\")\n",
    "    if not y_true == None:\n",
    "        ax[0].axhline(y=y_true, linestyle=\"--\", color=\"k\", label=\"ground truth\")\n",
    "    ax[0].legend()\n",
    "    ax[0].set_xlabel(\"number of batches\")\n",
    "    ax[0].set_ylabel(\"y\")\n",
    "\n",
    "    ax[1].plot(idx_batch, results[:,0], 'bo-')\n",
    "    ax[1].set_xlabel(\"number of batches\")\n",
    "    ax[1].set_ylabel(\"overhead [s]\")\n",
    "    plt.show()"
   ]
  },
  {
   "cell_type": "code",
   "execution_count": 9,
   "metadata": {
    "scrolled": false
   },
   "outputs": [
    {
     "name": "stdout",
     "output_type": "stream",
     "text": [
      "--- generating the candidates from pi...\n",
      "initial sampling...\n",
      "update prior...\n",
      "0-th recursive sampling...\n",
      "--- Finished 3.802e+00 [s]\n",
      "|| summary of sampling ||\n",
      " # of recombination samples: 1.840e+04\n",
      " # of Nyström samples: 5.000e+02\n",
      " # of nonzero weights: 1.840e+04\n",
      "--- Start kernel recombination...\n",
      "--- Finished all tasks 2.542e+01 [s]\n",
      "200) Best value: 2.43464e+00\n",
      "Acquisition time [s]: 3.40556e+01, per sample [ms]: 3.40556e+02\n",
      "--- generating the candidates from pi...\n",
      "initial sampling...\n",
      "update prior...\n",
      "0-th recursive sampling...\n",
      "--- Finished 6.410e+00 [s]\n",
      "|| summary of sampling ||\n",
      " # of recombination samples: 1.617e+04\n",
      " # of Nyström samples: 5.000e+02\n",
      " # of nonzero weights: 1.617e+04\n",
      "--- Start kernel recombination...\n",
      "--- Finished all tasks 2.692e+01 [s]\n",
      "300) Best value: 2.43464e+00\n",
      "Acquisition time [s]: 3.65281e+01, per sample [ms]: 3.65281e+02\n",
      "--- generating the candidates from pi...\n",
      "initial sampling...\n",
      "update prior...\n",
      "0-th recursive sampling...\n",
      "--- Finished 6.944e+00 [s]\n",
      "|| summary of sampling ||\n",
      " # of recombination samples: 1.465e+04\n",
      " # of Nyström samples: 5.000e+02\n",
      " # of nonzero weights: 1.465e+04\n",
      "--- Start kernel recombination...\n",
      "--- Finished all tasks 2.823e+01 [s]\n",
      "400) Best value: 2.57904e+00\n",
      "Acquisition time [s]: 4.32352e+01, per sample [ms]: 4.32352e+02\n",
      "--- generating the candidates from pi...\n",
      "initial sampling...\n",
      "update prior...\n",
      "0-th recursive sampling...\n",
      "--- Finished 7.521e+00 [s]\n",
      "|| summary of sampling ||\n",
      " # of recombination samples: 1.901e+04\n",
      " # of Nyström samples: 5.000e+02\n",
      " # of nonzero weights: 1.901e+04\n",
      "--- Start kernel recombination...\n",
      "--- Finished all tasks 3.985e+01 [s]\n",
      "500) Best value: 2.90717e+00\n",
      "Acquisition time [s]: 6.13675e+01, per sample [ms]: 6.13675e+02\n",
      "--- generating the candidates from pi...\n",
      "initial sampling...\n",
      "update prior...\n",
      "0-th recursive sampling...\n",
      "--- Finished 8.043e+00 [s]\n",
      "|| summary of sampling ||\n",
      " # of recombination samples: 1.164e+04\n",
      " # of Nyström samples: 5.000e+02\n",
      " # of nonzero weights: 1.164e+04\n",
      "--- Start kernel recombination...\n",
      "--- Finished all tasks 3.342e+01 [s]\n",
      "600) Best value: 2.90717e+00\n",
      "Acquisition time [s]: 5.36990e+01, per sample [ms]: 5.36990e+02\n"
     ]
    },
    {
     "data": {
      "image/png": "[encoded data removed]",
      "text/plain": [
       "<Figure size 800x400 with 2 Axes>"
      ]
     },
     "metadata": {},
     "output_type": "display_data"
    }
   ],
   "source": [
    "from SOBER._sober import Sober\n",
    "\n",
    "n_rec = 20000       # number of candidates to select batch queries\n",
    "n_nys = 500         # number of samples for Nyström approximation for batch queries\n",
    "batch_size = 100    # batch size\n",
    "n_hypers = 1000     # number of hypersamples for QD\n",
    "n_nys_qd = 100      # number of hypersamples for Nyström approximation for QD\n",
    "n_qd = 10           # number of QD samples\n",
    "n_iterations = 5    # number of iterations\n",
    "af_type = \"MES\"     # The type of acquisition function\n",
    "\n",
    "results = []\n",
    "sober = Sober(prior, fbgp)  # load FBGP model and prior\n",
    "for n_iter in range(n_iterations):\n",
    "    start = time.monotonic()\n",
    "    fbgp = train_fbgp_model(\n",
    "        Xall,\n",
    "        Yall,\n",
    "        n_hypers=n_hypers,\n",
    "        n_nys=n_nys_qd,\n",
    "        n_qd=n_qd,\n",
    "    )\n",
    "    sober.update_model(fbgp)     # pass the updated FBGP model to sober\n",
    "    AF = FBGPAcquisitionFunction(fbgp, label=af_type) # Set marginal acquisition function\n",
    "    X_batch = sober.next_batch(\n",
    "        n_rec,\n",
    "        n_nys,\n",
    "        batch_size,\n",
    "        calc_obj=AF,\n",
    "        verbose=True,\n",
    "    )\n",
    "    end = time.monotonic()\n",
    "    interval = end - start\n",
    "    \n",
    "    Y_batch = TestFunction(X_batch)\n",
    "    Xall = torch.cat((Xall, X_batch), dim=0)\n",
    "    Yall = torch.cat((Yall, Y_batch), dim=0)\n",
    "\n",
    "    print(f\"{len(Xall)}) Best value: {Yall.max().item():.5e}\")\n",
    "    print(f\"Acquisition time [s]: {interval:.5e}, per sample [ms]: {interval/batch_size*1e3:.5e}\")\n",
    "    results.append([interval, Yall.max().item()])\n",
    "\n",
    "results = torch.tensor(results)\n",
    "visualise_results(results, y_true=3.32237)"
   ]
  },
  {
   "cell_type": "code",
   "execution_count": null,
   "metadata": {},
   "outputs": [],
   "source": []
  }
 ],
 "metadata": {
  "kernelspec": {
   "display_name": "Python 3 (ipykernel)",
   "language": "python",
   "name": "python3"
  },
  "language_info": {
   "codemirror_mode": {
    "name": "ipython",
    "version": 3
   },
   "file_extension": ".py",
   "mimetype": "text/x-python",
   "name": "python",
   "nbconvert_exporter": "python",
   "pygments_lexer": "ipython3",
   "version": "3.9.13"
  }
 },
 "nbformat": 4,
 "nbformat_minor": 2
}
